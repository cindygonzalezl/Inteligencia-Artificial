{
  "nbformat": 4,
  "nbformat_minor": 0,
  "metadata": {
    "colab": {
      "name": "IA_Ejercicio1_CindyJannetGonzálezLeal_1723100.ipynb",
      "provenance": [],
      "authorship_tag": "ABX9TyMQIA9cHfeltbW6G1b6gGlk",
      "include_colab_link": true
    },
    "kernelspec": {
      "name": "python3",
      "display_name": "Python 3"
    },
    "language_info": {
      "name": "python"
    }
  },
  "cells": [
    {
      "cell_type": "markdown",
      "metadata": {
        "id": "view-in-github",
        "colab_type": "text"
      },
      "source": [
        "<a href=\"https://colab.research.google.com/github/cindygonzalezl/Inteligencia-Artificial/blob/main/IA_Ejercicio1_CindyJannetGonz%C3%A1lezLeal_1723100.ipynb\" target=\"_parent\"><img src=\"https://colab.research.google.com/assets/colab-badge.svg\" alt=\"Open In Colab\"/></a>"
      ]
    },
    {
      "cell_type": "code",
      "metadata": {
        "id": "TUHSqZ_Gp6CM",
        "colab": {
          "base_uri": "https://localhost:8080/",
          "height": 35
        },
        "outputId": "13bad2bb-28ab-4bf8-fb19-00c6e19fd376"
      },
      "source": [
        "\"\"\"Actividad 2.- Ejercicios Introducción Python \n",
        "Cindy Jannet González Leal 1723100 \n",
        "Martes N4\"\"\"\n"
      ],
      "execution_count": 1,
      "outputs": [
        {
          "output_type": "execute_result",
          "data": {
            "application/vnd.google.colaboratory.intrinsic+json": {
              "type": "string"
            },
            "text/plain": [
              "'Actividad 2.- Ejercicios Introducción Python \\nCindy Jannet González Leal 1723100 \\nMartes N4'"
            ]
          },
          "metadata": {},
          "execution_count": 1
        }
      ]
    },
    {
      "cell_type": "code",
      "metadata": {
        "colab": {
          "base_uri": "https://localhost:8080/"
        },
        "id": "bMer0kzX_RF3",
        "outputId": "1eeaaeac-04e8-4a73-f3e1-ca3cca3ef3c7"
      },
      "source": [
        "\"\"\"Ejercicio 1: concatenación de variables\"\"\"\n",
        "nom= input(\"Ingresa tu nombre: \") #se asigna una variable para ingresar el nombre y se utiliza la función input\n",
        "edad= input(\"Ingresa tu edad: \") #se asigna una variable para ingresar la edad\n",
        "ff= input(\"¿Cuál es tu frase favorita? \") #se asigna una variable para la frase\n",
        "af= input(\"¿Quién es el autor de tu frase favorita? \") #se asigna una variable para el autor\n",
        "print(\"\\n\") #se imprime un espacio para que se distinga mejor \n",
        "print(\"Tu nombre es\",nom +\" y tienes\",edad + \" años. \" + \"Tu frase favorita es:\", ff +\" , y el autor de la frase es:\", af) \n",
        "#se utiliza la concatenación para que el mensaje se componga de toda la información preguntada"
      ],
      "execution_count": null,
      "outputs": [
        {
          "output_type": "stream",
          "text": [
            "Ingresa tu nombre: Cindy González\n",
            "Ingresa tu edad: 23\n",
            "¿Cuál es tu frase favorita? \"Lo que uno puede llegar a ser, uno debe serlo.\"\n",
            "¿Quién es el autor de tu frase favorita? Abraham Maslow\n",
            "\n",
            "\n",
            "Tu nombre es Cindy González y tienes 23 años. Tu frase favorita es: \"Lo que uno puede llegar a ser, uno debe serlo.\" , y el autor de la frase es: Abraham Maslow\n"
          ],
          "name": "stdout"
        }
      ]
    },
    {
      "cell_type": "code",
      "metadata": {
        "colab": {
          "base_uri": "https://localhost:8080/"
        },
        "id": "f_9lKkq3Daux",
        "outputId": "6c0047ab-f9e1-4a08-f4c4-753b7106bc48"
      },
      "source": [
        "\"\"\"Ejercicio 2: uso de operadores aritméticos\"\"\"\n",
        "e1= int(input(\"Ingresa un número entero: \")) #se asigna el tipo de variable int y se utiliza input para que el usuario lo ingrese \n",
        "e2= int(input(\"Ingresa otro número entero: \"))\n",
        "f1= float(input(\"Ingresa un número real: \")) #se asigna el tipo de variable float y se utiliza input para que el usuario lo ingrese\n",
        "f2= float(input(\"Ingresa otro número real: \"))\n",
        "\n",
        "print(e1+e2) #suma de enteros\n",
        "print(e1-e2) #resta de enteros\n",
        "print(e1*e2) #multiplicación de enteros\n",
        "print(e1/e2) #división de enteros\n",
        "print(f1+f2) #suma de reales\n",
        "print(f1-f2) #resta de reales\n",
        "print(f1*f2) #multiplicación de reales\n",
        "print(f1/f2) #división de reales"
      ],
      "execution_count": null,
      "outputs": [
        {
          "output_type": "stream",
          "text": [
            "Ingresa un número entero: 6\n",
            "Ingresa otro número entero: 3\n",
            "Ingresa un número real: 4.8\n",
            "Ingresa otro número real: 2.4\n",
            "9\n",
            "3\n",
            "18\n",
            "2.0\n",
            "7.199999999999999\n",
            "2.4\n",
            "11.52\n",
            "2.0\n"
          ],
          "name": "stdout"
        }
      ]
    },
    {
      "cell_type": "code",
      "metadata": {
        "colab": {
          "base_uri": "https://localhost:8080/"
        },
        "id": "p3BSKWScIM_0",
        "outputId": "457bf22c-26c4-4126-e2a6-b458281c4113"
      },
      "source": [
        "\"\"\"Ejercicio 3: evaluación de expresiones lógicas\"\"\"\n",
        "\n",
        "x=8 #asignación de valores a variables para evaluar expresiónes \n",
        "y=4\n",
        "\n",
        "print(x==8 and y==4) #and regresa True si ambas expresiones son verdaderas\n",
        "print(x<y and x!=y) #se utilizan comparadores (==, != , <>, >,<=)\n",
        "print(x==8 or y==2) #or regresa True si una de las expresiones es verdadera\n",
        "print(x<=y or x==y)\n",
        "print(not y) #not regresa un False si el resultado es True\n",
        "print(not x==6)\n"
      ],
      "execution_count": null,
      "outputs": [
        {
          "output_type": "stream",
          "text": [
            "True\n",
            "False\n",
            "True\n",
            "False\n",
            "False\n",
            "True\n"
          ],
          "name": "stdout"
        }
      ]
    }
  ]
}
