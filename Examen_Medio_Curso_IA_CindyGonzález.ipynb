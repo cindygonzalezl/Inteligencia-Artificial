{
  "nbformat": 4,
  "nbformat_minor": 0,
  "metadata": {
    "colab": {
      "name": "Examen-Medio-Curso-IA-CindyGonzález.ipynb",
      "provenance": [],
      "authorship_tag": "ABX9TyO+rpyWZBCcca3bbZhUNnSz",
      "include_colab_link": true
    },
    "kernelspec": {
      "name": "python3",
      "display_name": "Python 3"
    },
    "language_info": {
      "name": "python"
    }
  },
  "cells": [
    {
      "cell_type": "markdown",
      "metadata": {
        "id": "view-in-github",
        "colab_type": "text"
      },
      "source": [
        "<a href=\"https://colab.research.google.com/github/cindygonzalezl/Inteligencia-Artificial/blob/main/Examen_Medio_Curso_IA_CindyGonz%C3%A1lez.ipynb\" target=\"_parent\"><img src=\"https://colab.research.google.com/assets/colab-badge.svg\" alt=\"Open In Colab\"/></a>"
      ]
    },
    {
      "cell_type": "code",
      "metadata": {
        "colab": {
          "base_uri": "https://localhost:8080/",
          "height": 35
        },
        "id": "dJpC1II44BhC",
        "outputId": "afe1e78b-1cf0-4db4-a402-f5bdb3a55b92"
      },
      "source": [
        "\"\"\"Examen-Medio-Curso\n",
        "Cindy Jannet González Leal 1723100 \n",
        "Martes N4\"\"\""
      ],
      "execution_count": 1,
      "outputs": [
        {
          "output_type": "execute_result",
          "data": {
            "application/vnd.google.colaboratory.intrinsic+json": {
              "type": "string"
            },
            "text/plain": [
              "'Examen-Medio-Curso\\nCindy Jannet González Leal 1723100 \\nMartes N4'"
            ]
          },
          "metadata": {},
          "execution_count": 1
        }
      ]
    },
    {
      "cell_type": "code",
      "metadata": {
        "colab": {
          "base_uri": "https://localhost:8080/"
        },
        "id": "z8-0jmaC9zgT",
        "outputId": "a9755c92-2a32-4b99-dcdc-30c89b7b989b"
      },
      "source": [
        "\"\"\"Ejercicio 1.1 El usuario dará un número al azar y el código calculará la suma de todos los números desde el 1 \n",
        "hasta el número dado por el usuario.\"\"\"\n",
        "num=int(input(\"Ingresa un número al azar para calcular su suma: \"))\n",
        "suma=0\n",
        "for x in range(num+1):\n",
        "  suma+=x\n",
        "print(suma)\n"
      ],
      "execution_count": 7,
      "outputs": [
        {
          "output_type": "stream",
          "name": "stdout",
          "text": [
            "Ingresa un número al azar para calcular su suma: 6\n",
            "21\n"
          ]
        }
      ]
    },
    {
      "cell_type": "code",
      "metadata": {
        "colab": {
          "base_uri": "https://localhost:8080/"
        },
        "id": "LMy8JYNh-cF_",
        "outputId": "ba115b12-0f61-44f7-9d78-4388a2217af6"
      },
      "source": [
        "\"\"\"Ejercicio 1.2 Dados el inicio y final de un rango de números, guardar ese rango de números en una lista. \n",
        "Después, imprimir los números que son pares en la lista por medio de uno de los ciclos que vimos en clase. \n",
        "Inicio = 6, final = 31\"\"\"\n",
        "\n",
        "inicio=6\n",
        "final=31\n",
        "lista=[]\n",
        "p=[]\n",
        "for x in range(inicio,final+1):\n",
        "  lista.append(x)\n",
        "  if x%2==0:\n",
        "    p.append(x)\n",
        "print(p)\n"
      ],
      "execution_count": 8,
      "outputs": [
        {
          "output_type": "stream",
          "name": "stdout",
          "text": [
            "[6, 8, 10, 12, 14, 16, 18, 20, 22, 24, 26, 28, 30]\n"
          ]
        }
      ]
    }
  ]
}