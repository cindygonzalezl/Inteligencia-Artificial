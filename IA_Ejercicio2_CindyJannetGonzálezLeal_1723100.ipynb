{
  "nbformat": 4,
  "nbformat_minor": 0,
  "metadata": {
    "colab": {
      "name": "IA_Ejercicio2_CindyJannetGonzálezLeal_1723100.ipynb",
      "provenance": [],
      "collapsed_sections": [],
      "include_colab_link": true
    },
    "kernelspec": {
      "name": "python3",
      "display_name": "Python 3"
    },
    "language_info": {
      "name": "python"
    }
  },
  "cells": [
    {
      "cell_type": "markdown",
      "metadata": {
        "id": "view-in-github",
        "colab_type": "text"
      },
      "source": [
        "<a href=\"https://colab.research.google.com/github/cindygonzalezl/Inteligencia-Artificial/blob/main/IA_Ejercicio2_CindyJannetGonza%CC%81lezLeal_1723100.ipynb\" target=\"_parent\"><img src=\"https://colab.research.google.com/assets/colab-badge.svg\" alt=\"Open In Colab\"/></a>"
      ]
    },
    {
      "cell_type": "code",
      "metadata": {
        "colab": {
          "base_uri": "https://localhost:8080/",
          "height": 35
        },
        "id": "X09goqjT2NCR",
        "outputId": "f113d5b4-8f3b-4195-cc00-7108a8d37ff9"
      },
      "source": [
        "\"\"\"Actividad 3.- Ejercicios Introducción Python, 2da parte\n",
        "Cindy Jannet González Leal 1723100 \n",
        "Martes N4\"\"\""
      ],
      "execution_count": 17,
      "outputs": [
        {
          "output_type": "execute_result",
          "data": {
            "application/vnd.google.colaboratory.intrinsic+json": {
              "type": "string"
            },
            "text/plain": [
              "'Actividad 3.- Ejercicios Introducción Python, 2da parte\\nCindy Jannet González Leal 1723100 \\nMartes N4'"
            ]
          },
          "metadata": {},
          "execution_count": 17
        }
      ]
    },
    {
      "cell_type": "code",
      "metadata": {
        "colab": {
          "base_uri": "https://localhost:8080/"
        },
        "id": "1G1BQmja2T4h",
        "outputId": "b5c09c68-df96-4b58-cfd1-c5eb4b6704a8"
      },
      "source": [
        "\"\"\"Ejercicio 1.1: comidas favoritas\"\"\"\n",
        "comida = [] #se crea la lista de comida en donde se almacenan los datos\n",
        "for i in range(7): #utilizamos un ciclo para que almanece solamente 7 comidas \n",
        "    comida.append(input(\"Ingresa una de tus comidas favorita:\")) #se utiliza append para guardar cada una de las comidas en la lista creada\n",
        "print(\"Tus comidas favoritas son:\" + str(comida)) #imprimimos los valores ingresados en forma de lista"
      ],
      "execution_count": 18,
      "outputs": [
        {
          "output_type": "stream",
          "name": "stdout",
          "text": [
            "Ingresa una de tus comidas favorita:Hamburguesa\n",
            "Ingresa una de tus comidas favorita:Pizza\n",
            "Ingresa una de tus comidas favorita:Elote\n",
            "Ingresa una de tus comidas favorita:Caldo\n",
            "Ingresa una de tus comidas favorita:Pasta\n",
            "Ingresa una de tus comidas favorita:Carne asada\n",
            "Ingresa una de tus comidas favorita:Sushi\n",
            "Tus comidas favoritas son:['Hamburguesa', 'Pizza', 'Elote', 'Caldo', 'Pasta', 'Carne asada', 'Sushi']\n"
          ]
        }
      ]
    },
    {
      "cell_type": "code",
      "metadata": {
        "colab": {
          "base_uri": "https://localhost:8080/"
        },
        "id": "AUVjS3Ko62jZ",
        "outputId": "dcf47d1e-68fb-486d-fb4c-885cb6216aa3"
      },
      "source": [
        "\"\"\"Ejercicio 1.2: comidas favoritas junto una oración\"\"\"\n",
        "comida = [] #se crea la lista de comida en donde se almacenan los datos\n",
        "for i in range(7): #utilizamos un ciclo para que almanece solamente 7 comidas \n",
        "    comida.append(input(\"Ingresa una de tus comidas favorita:\")) #se utiliza append para guardar cada una de las comidas en la lista creada\n",
        "for i in range(7):  #utilizamos un ciclo para que imprima una por una de las comidas\n",
        "    print (\"Una de mis comidas favoritas es:\" + comida[i])  #utilizamos el valor de i para que imprima dentro del ciclo cada una de las comidas\n"
      ],
      "execution_count": null,
      "outputs": [
        {
          "output_type": "stream",
          "name": "stdout",
          "text": [
            "Ingresa una de tus comidas favorita:Hamburguesa\n",
            "Ingresa una de tus comidas favorita:Pizza\n",
            "Ingresa una de tus comidas favorita:Elote\n",
            "Ingresa una de tus comidas favorita:Caldo\n",
            "Ingresa una de tus comidas favorita:Pasta\n",
            "Ingresa una de tus comidas favorita:Carne asada\n",
            "Ingresa una de tus comidas favorita:Sushi\n",
            "Una de mis comidas favoritas es:Hamburguesa\n",
            "Una de mis comidas favoritas es:Pizza\n",
            "Una de mis comidas favoritas es:Elote\n",
            "Una de mis comidas favoritas es:Caldo\n",
            "Una de mis comidas favoritas es:Pasta\n",
            "Una de mis comidas favoritas es:Carne asada\n",
            "Una de mis comidas favoritas es:Sushi\n"
          ]
        }
      ]
    },
    {
      "cell_type": "code",
      "metadata": {
        "colab": {
          "base_uri": "https://localhost:8080/"
        },
        "id": "nbXskSLI9iVc",
        "outputId": "33183fe4-4922-4008-f5ff-4c56a1587c1a"
      },
      "source": [
        "\"\"\"Ejercicio 2: piedra, papel y tijeras\"\"\"\n",
        "Jugador1=Jugador1.lower() #agregamos esta línea para que no importe como se ingrese la partida, la comparación sea en minúscula y se ejecute sin error\n",
        "Jugador2=Jugador2.lower()\n",
        "Jugador1= input(\"Ingresa la selección del jugador 1:\") #solicitamos el valor para el jugador 1\n",
        "Jugador2= input(\"Ingresa la selección del jugador 2:\") #solicitamos el valor para el jugador 2\n",
        "if (Jugador1=='papel' and Jugador2=='piedra') or (Jugador1=='tijeras' and Jugador2=='papel') or (Jugador1=='piedra' and Jugador2=='tijeras'):\n",
        "    print(\"El jugador 1 ha ganado la partida\") #Realizamos la comparativa con if para la selección de cada jugador y planteamos el escenario donde gane el jugador 1\n",
        "elif Jugador1==Jugador2: #Planteamos el escenario en donde resulte un empate\n",
        "    print(\"El resultado es un empate\")\n",
        "else: #Si la jugado no pertenece a ningún escenario anterior quiere decir que ganó el jugador 2\n",
        "    print(\"El jugador 2 ha ganado la partida\")"
      ],
      "execution_count": 19,
      "outputs": [
        {
          "output_type": "stream",
          "name": "stdout",
          "text": [
            "Ingresa la selección del jugador 1:piedra\n",
            "Ingresa la selección del jugador 2:papel\n",
            "El jugador 2 ha ganado la partida\n"
          ]
        }
      ]
    },
    {
      "cell_type": "code",
      "metadata": {
        "colab": {
          "base_uri": "https://localhost:8080/"
        },
        "id": "xOYMqQvJEN5H",
        "outputId": "1f7ba734-94c0-4a0e-acff-e551b6f05247"
      },
      "source": [
        "\"\"\"Ejercicio 3: impresión de un patrón\"\"\"\n",
        "rows = 6 #comenzamos por decirle al programa el número de filas que tendra el patrón\n",
        "for i in range(rows, 1, -1): #utilizamos el ciclo for para que en cada iteración elimine una de las filas\n",
        "    for j in range(1, i + 1): #utilizamos un  segundo ciclo for dentro del primero para que vaya avanzando la iteración de las filas\n",
        "        print(j, end=' ') #imprimimos nuestro patrón \n",
        "    print('') #este print permite que se imprima en una nueva línea para cada iteración \n",
        "for i in range(1, rows + 1): #utilizamos el ciclo for para que en cada iteración agregue una de las filas\n",
        "    for j in range(1, i + 1): #utilizamos un  segundo ciclo for dentro del primero para que vaya avanzando la iteración de las filas\n",
        "        print(j, end=' ') #imprimimos nuestro patrón \n",
        "    print('') #este print permite que se imprima en una nueva línea para cada iteración "
      ],
      "execution_count": null,
      "outputs": [
        {
          "output_type": "stream",
          "name": "stdout",
          "text": [
            "1 2 3 4 5 6 \n",
            "1 2 3 4 5 \n",
            "1 2 3 4 \n",
            "1 2 3 \n",
            "1 2 \n",
            "1 \n",
            "1 2 \n",
            "1 2 3 \n",
            "1 2 3 4 \n",
            "1 2 3 4 5 \n",
            "1 2 3 4 5 6 \n"
          ]
        }
      ]
    }
  ]
}